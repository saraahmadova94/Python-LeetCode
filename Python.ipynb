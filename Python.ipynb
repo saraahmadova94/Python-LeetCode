{
 "cells": [
  {
   "cell_type": "code",
   "execution_count": null,
   "id": "d935b466",
   "metadata": {},
   "outputs": [
    {
     "name": "stdout",
     "output_type": "stream",
     "text": [
      "olleh\n"
     ]
    }
   ],
   "source": [
    "# Reverse string\n",
    "s = 'hello' \n",
    "print(s[::-1])"
   ]
  },
  {
   "cell_type": "code",
   "execution_count": null,
   "id": "0a169245",
   "metadata": {},
   "outputs": [
    {
     "name": "stdout",
     "output_type": "stream",
     "text": [
      "Prime\n"
     ]
    }
   ],
   "source": [
    "# Prime number check\n",
    "n = int(input(\"Enter a number: \"))\n",
    "\n",
    "if n <= 1:\n",
    "    print(\"Not Prime\")\n",
    "else:\n",
    "    for i in range(2, int(n**0.5) + 1):\n",
    "        if n % i ==0:\n",
    "            print(\"Not Prime\")\n",
    "            break\n",
    "    else:\n",
    "        print(\"Prime\")\n",
    "      \n",
    "\n",
    "# A prime number is a whole number greater than 1 that has exactly two distinct positive divisors — 1 and itself."
   ]
  },
  {
   "cell_type": "code",
   "execution_count": 8,
   "id": "ac9e3cf1",
   "metadata": {},
   "outputs": [
    {
     "name": "stdout",
     "output_type": "stream",
     "text": [
      "The factorial of 7 is 5040\n"
     ]
    }
   ],
   "source": [
    "# Factorial of a number\n",
    "number = int(input(\"Enter a number to find its factorial: \"))\n",
    "\n",
    "def factorial(num):\n",
    "    if num == 0 or num == 1:\n",
    "        return 1\n",
    "    else:\n",
    "        return num * factorial(num - 1)\n",
    "result = factorial(number)\n",
    "print(f\"The factorial of {number} is {result}\")"
   ]
  },
  {
   "cell_type": "code",
   "execution_count": 11,
   "id": "9e7176b8",
   "metadata": {},
   "outputs": [
    {
     "name": "stdout",
     "output_type": "stream",
     "text": [
      "alma is not a palindrome\n"
     ]
    }
   ],
   "source": [
    "# Palindrome string\n",
    "\n",
    "s = input(\"Enter a string: \")\n",
    "\n",
    "if s == s[::-1]:\n",
    "    print(f\"{s} is a polindrome\")\n",
    "else:\n",
    "    print(f\"{s} is not a palindrome\")"
   ]
  },
  {
   "cell_type": "code",
   "execution_count": 13,
   "id": "ce8886cf",
   "metadata": {},
   "outputs": [
    {
     "name": "stdout",
     "output_type": "stream",
     "text": [
      "9\n"
     ]
    }
   ],
   "source": [
    "# Find largest number\n",
    "\n",
    "nums = [3, 5, 2, 8, 1, 9]\n",
    "print(max(nums))"
   ]
  },
  {
   "cell_type": "code",
   "execution_count": null,
   "id": "f8f30481",
   "metadata": {},
   "outputs": [
    {
     "name": "stdout",
     "output_type": "stream",
     "text": [
      "a: 20 b: 10\n"
     ]
    }
   ],
   "source": [
    "# Swap variables\n",
    "a, b = 10, 20\n",
    "a, b = b, a\n",
    "print(\"a:\", a, \"b:\", b)\n",
    "\n",
    "# Swapping two variables  means making each one take the other’s value."
   ]
  },
  {
   "cell_type": "code",
   "execution_count": null,
   "id": "d60abfba",
   "metadata": {},
   "outputs": [
    {
     "name": "stdout",
     "output_type": "stream",
     "text": [
      "8\n"
     ]
    }
   ],
   "source": [
    "#counting vowels\n",
    "\n",
    "def count_vawels(string):\n",
    "    vowels = \"aioueAIOUE\"\n",
    "    count = 0\n",
    "    for char in string:\n",
    "        if char in vowels:\n",
    "            count += 1\n",
    "    return count\n",
    "\n",
    "print(count_vawels(\"Hey, what are you doing?\"))"
   ]
  },
  {
   "cell_type": "code",
   "execution_count": null,
   "id": "12dc5dad",
   "metadata": {},
   "outputs": [
    {
     "name": "stdout",
     "output_type": "stream",
     "text": [
      "657 is not a armstrong number\n"
     ]
    }
   ],
   "source": [
    "# Armstrong number\n",
    "\n",
    "num = int(input(\"Enter a number:\"))\n",
    "n = len(str(num))\n",
    "sum = sum(int(digit)**n for digit in str(num))\n",
    "\n",
    "if num==sum:\n",
    "    print(f\"{num} is a armstrong number\")\n",
    "\n",
    "else:\n",
    "    print(f\"{num} is not a armstrong number\")\n",
    "\n",
    "# Armstrong number is a number that is equal to the sum of its own digits each raised to the power of the number of digits."
   ]
  },
  {
   "cell_type": "code",
   "execution_count": 21,
   "id": "bbd80ca5",
   "metadata": {},
   "outputs": [
    {
     "name": "stdout",
     "output_type": "stream",
     "text": [
      "0 1 1 2 3 5 8 "
     ]
    }
   ],
   "source": [
    "# Fibonacci sequence\n",
    "n = int(input(\"Enter how many terms you want in Fibonacci sequence:\"))\n",
    "\n",
    "a,b = 0, 1\n",
    "\n",
    "for i in range(n):\n",
    "    print(a, end=\" \")\n",
    "    a, b = b, a + b"
   ]
  },
  {
   "cell_type": "code",
   "execution_count": 25,
   "id": "7d34f2e3",
   "metadata": {},
   "outputs": [
    {
     "name": "stdout",
     "output_type": "stream",
     "text": [
      "0 1 1 2 3 "
     ]
    }
   ],
   "source": [
    "# Fibonacci\n",
    "\n",
    "def fibonacci(n):\n",
    "    if n<=1:\n",
    "        return n\n",
    "    else:\n",
    "        return fibonacci(n-1) + fibonacci(n-2)\n",
    "    \n",
    "for i in range(5):\n",
    "    print(fibonacci(i), end= \" \")"
   ]
  },
  {
   "cell_type": "code",
   "execution_count": 29,
   "id": "6e3acbfd",
   "metadata": {},
   "outputs": [
    {
     "name": "stdout",
     "output_type": "stream",
     "text": [
      "10\n"
     ]
    }
   ],
   "source": [
    "# GCD(Greatest Common Divisor)\n",
    "\n",
    "def gcd(a, b):\n",
    "    while b != 0:\n",
    "        a, b = b, a % b\n",
    "    return a\n",
    "\n",
    "print(gcd(20, 50))\n",
    "\n",
    "\n",
    "# GCD(a,b)=largest number that divides both a and b"
   ]
  },
  {
   "cell_type": "code",
   "execution_count": 3,
   "id": "7d7d081b",
   "metadata": {},
   "outputs": [
    {
     "name": "stdout",
     "output_type": "stream",
     "text": [
      "Tech\n"
     ]
    }
   ],
   "source": [
    "num = int(input(\"Enter a number: \"))\n",
    "\n",
    "if num % 3 == 0:\n",
    "    print(\"Tech\")\n",
    "\n",
    "elif num % 5 == 0:\n",
    "    print(\"Pro\")\n",
    "\n",
    "elif num % 3 == 0 and num % 5 == 0:\n",
    "    print(\"TechPro\")\n",
    "\n",
    "else:\n",
    "    print(num)"
   ]
  },
  {
   "cell_type": "code",
   "execution_count": null,
   "id": "16ce01d4",
   "metadata": {},
   "outputs": [
    {
     "name": "stdout",
     "output_type": "stream",
     "text": [
      "True\n"
     ]
    }
   ],
   "source": [
    "# Anagram check\n",
    "\n",
    "def are_anagrams(str1, str2):\n",
    "\n",
    "    # Remove spaces and convert to lowercase\n",
    "    str1 = str1.replace(\" \", \"\").lower()\n",
    "    str2 = str2.replace(\" \", \"\").lower()\n",
    "\n",
    "    return sorted(str1) == sorted(str2)\n",
    "\n",
    "print(are_anagrams(\"Listen\", \"Silent\"))"
   ]
  },
  {
   "cell_type": "code",
   "execution_count": 6,
   "id": "f9dfd294",
   "metadata": {},
   "outputs": [
    {
     "name": "stdout",
     "output_type": "stream",
     "text": [
      "name your is what\n"
     ]
    }
   ],
   "source": [
    "# Reverese string in sentence\n",
    "\n",
    "sentence = input(\"Enter a sentence: \")\n",
    "\n",
    "def reverse_sentence(sent):\n",
    "    # Split the sentence into words\n",
    "    \n",
    "    words = sent.split()\n",
    "    reversed_words = words[::-1]\n",
    "\n",
    "    # Join the reversed words back into a sentence\n",
    "    return ' '.join(reversed_words)  \n",
    "   \n",
    "print(reverse_sentence(sentence))"
   ]
  },
  {
   "cell_type": "code",
   "execution_count": 14,
   "id": "45ef5405",
   "metadata": {},
   "outputs": [
    {
     "name": "stdout",
     "output_type": "stream",
     "text": [
      "[2, 1]\n"
     ]
    }
   ],
   "source": [
    "# Duplicate elements in a list\n",
    "\n",
    "def find_duplicates(lst):\n",
    "    duplicates = []\n",
    "    seen = set()\n",
    "    for item in lst:\n",
    "        if item in seen:\n",
    "            duplicates.append(item)\n",
    "        else:\n",
    "            seen.add(item)\n",
    "    return duplicates\n",
    "\n",
    "numbs = [1, 2, 3, 4, 2, 8, 9, 5, 1, 6]\n",
    "print(find_duplicates(numbs))"
   ]
  },
  {
   "cell_type": "code",
   "execution_count": 15,
   "id": "9a5dd081",
   "metadata": {},
   "outputs": [
    {
     "name": "stdout",
     "output_type": "stream",
     "text": [
      "8\n"
     ]
    }
   ],
   "source": [
    "# finding second largest number in a list\n",
    "\n",
    "def second_largest(nums):\n",
    "\n",
    "    # Start with the smallest possible values\n",
    "    first = second = float('-inf')\n",
    "\n",
    "    for num in nums:\n",
    "        if num > first:\n",
    "            second = first\n",
    "            first = num\n",
    "        elif first > num > second:\n",
    "            # Found a new second largest number\n",
    "            second = num\n",
    "    return second if second != float('-inf') else None\n",
    "\n",
    "nums = [3, 5, 2, 8, 1, 9]\n",
    "print(second_largest(nums))"
   ]
  },
  {
   "cell_type": "code",
   "execution_count": 16,
   "id": "9f82e446",
   "metadata": {},
   "outputs": [
    {
     "name": "stdout",
     "output_type": "stream",
     "text": [
      "False\n"
     ]
    }
   ],
   "source": [
    "# checking digits in a string\n",
    "\n",
    "def is_digit(strng):\n",
    "\n",
    "    for char in strng:\n",
    "        if not char.isdigit():\n",
    "            return False\n",
    "    return True\n",
    "\n",
    "strng = \"123456sara\"\n",
    "\n",
    "print(is_digit(strng))"
   ]
  },
  {
   "cell_type": "code",
   "execution_count": 17,
   "id": "74ab1692",
   "metadata": {},
   "outputs": [
    {
     "name": "stdout",
     "output_type": "stream",
     "text": [
      "True\n"
     ]
    }
   ],
   "source": [
    "def contains_digit(strng):\n",
    "\n",
    "    for char in strng:\n",
    "        if char.isdigit():\n",
    "            return True\n",
    "    return False\n",
    "\n",
    "strng = \"sara123\"\n",
    "print(contains_digit(strng))"
   ]
  },
  {
   "cell_type": "code",
   "execution_count": 18,
   "id": "8733c64d",
   "metadata": {},
   "outputs": [
    {
     "name": "stdout",
     "output_type": "stream",
     "text": [
      "[1, 2, 3, 4, 5, 6, 7]\n"
     ]
    }
   ],
   "source": [
    "# Nested list flattening\n",
    "\n",
    "def flatten_list(nested_list):\n",
    "    flat_list = []\n",
    "    for item in nested_list:\n",
    "        if isinstance(item, list):\n",
    "            flat_list.extend(flatten_list(item))\n",
    "        else:\n",
    "            flat_list.append(item)\n",
    "    return flat_list\n",
    "\n",
    "nested_list = [1, [2, 3], [4, [5, 6]], 7]\n",
    "print(flatten_list(nested_list))"
   ]
  },
  {
   "cell_type": "code",
   "execution_count": null,
   "id": "ecd8793b",
   "metadata": {},
   "outputs": [],
   "source": []
  }
 ],
 "metadata": {
  "kernelspec": {
   "display_name": "Python 3",
   "language": "python",
   "name": "python3"
  },
  "language_info": {
   "codemirror_mode": {
    "name": "ipython",
    "version": 3
   },
   "file_extension": ".py",
   "mimetype": "text/x-python",
   "name": "python",
   "nbconvert_exporter": "python",
   "pygments_lexer": "ipython3",
   "version": "3.11.9"
  }
 },
 "nbformat": 4,
 "nbformat_minor": 5
}
