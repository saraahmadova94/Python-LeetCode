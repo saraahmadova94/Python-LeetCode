{
 "cells": [
  {
   "cell_type": "code",
   "execution_count": 2,
   "id": "bf9d14bf",
   "metadata": {},
   "outputs": [],
   "source": [
    "from __future__ import annotations\n",
    "\n",
    "from collections import Counter, defaultdict, deque\n",
    "from dataclasses import dataclass\n",
    "from typing import List, Tuple, Iterable, Generator, Dict, Optional, Set\n",
    "import itertools\n",
    "import csv\n",
    "import os\n",
    "import tempfile\n"
   ]
  },
  {
   "cell_type": "markdown",
   "id": "a455eb42",
   "metadata": {},
   "source": [
    "1) Two Sum\n",
    "\n",
    "Given a list of integers nums and an integer target,\n",
    "return indices (i, j) such that nums[i] + nums[j] == target and i < j.\n",
    "Assume exactly one solution exists.\n",
    "Goal: Implement in O(n) time using a hash map."
   ]
  },
  {
   "cell_type": "code",
   "execution_count": 2,
   "id": "91c87615",
   "metadata": {},
   "outputs": [
    {
     "name": "stdout",
     "output_type": "stream",
     "text": [
      "(2, 4)\n"
     ]
    }
   ],
   "source": [
    "nums = [2, 4, 7, 32, 13]\n",
    "target = 20\n",
    "\n",
    "def two_sum(nums, target):\n",
    "    num_to_index = {}\n",
    "    for i, num in enumerate(nums):\n",
    "        complement = target - num\n",
    "        if complement in num_to_index:\n",
    "            return (num_to_index[complement], i)\n",
    "        num_to_index[num] = i\n",
    "    raise ValueError(\"No two sum solution exists\")\n",
    "\n",
    "print(two_sum(nums, target))"
   ]
  },
  {
   "cell_type": "markdown",
   "id": "e19d6db6",
   "metadata": {},
   "source": [
    "2) Remove Duplicates (sorted list, in-place)\n",
    "\n",
    "Given a sorted list nums, remove duplicates in-place so that each element appears once.\n",
    "Return the new length (k). Only the first k elements of nums are guaranteed valid.\n",
    "TODO: Two-pointer approach; O(n) time, O(1) space."
   ]
  },
  {
   "cell_type": "code",
   "execution_count": 3,
   "id": "ff2b7f49",
   "metadata": {},
   "outputs": [
    {
     "name": "stdout",
     "output_type": "stream",
     "text": [
      "6\n"
     ]
    }
   ],
   "source": [
    "nums = [2, 7, 10, 2, 5, 8, 9, 10]\n",
    "nums.sort()\n",
    "\n",
    "def remove_duplicates(nums):\n",
    "    if not nums:\n",
    "        return 0\n",
    "    i = 0\n",
    "    for j in range(1, len(nums)):\n",
    "        if nums[j] != nums[i]:   # found a new unique value\n",
    "            \n",
    "            i += 1\n",
    "            nums[i] = nums[j]    # overwrite duplicate position\n",
    "    return i + 1\n",
    "\n",
    "print(remove_duplicates(nums)) "
   ]
  },
  {
   "cell_type": "markdown",
   "id": "9e19736b",
   "metadata": {},
   "source": [
    "3) Rotate List (right by k)\n",
    "\n",
    "Rotate the list to the right by k steps and return the new list.\n",
    "\n",
    "Example: [1,2,3,4,5], k=2 -> [4,5,1,2,3]\n",
    "\n",
    "TODO: Consider k % len(nums). Try slicing or deque."
   ]
  },
  {
   "cell_type": "code",
   "execution_count": 4,
   "id": "c6df8b0a",
   "metadata": {},
   "outputs": [
    {
     "name": "stdout",
     "output_type": "stream",
     "text": [
      "[5, 6, 7, 1, 2, 3, 4]\n"
     ]
    }
   ],
   "source": [
    "# First solution that comes to mind is slicing\n",
    "list = [1, 2, 3, 4, 5,6,7]\n",
    "k = 3\n",
    "\n",
    "def rotate_list(list, k):\n",
    "    if not list:\n",
    "        return list\n",
    "    k = k % len(list)  # handle cases where k > len(list)  ((large k values))\n",
    "    return list[-k:] + list[:-k]\n",
    "\n",
    "print(rotate_list(list, k))"
   ]
  },
  {
   "cell_type": "code",
   "execution_count": 3,
   "id": "8c5f3eaa",
   "metadata": {},
   "outputs": [
    {
     "name": "stdout",
     "output_type": "stream",
     "text": [
      "[5, 6, 7, 1, 2, 3, 4]\n"
     ]
    }
   ],
   "source": [
    "# Second solution using deque\n",
    "\n",
    "nums = [1, 2, 3, 4, 5, 6, 7]\n",
    "k = 3\n",
    "\n",
    "def rotate_list_deque(nums, k):\n",
    "    d = deque(nums)\n",
    "    d.rotate(k)\n",
    "    return list(d)\n",
    "\n",
    "print(rotate_list_deque(nums, k))"
   ]
  },
  {
   "cell_type": "code",
   "execution_count": null,
   "id": "3d42a308",
   "metadata": {},
   "outputs": [],
   "source": []
  },
  {
   "cell_type": "code",
   "execution_count": null,
   "id": "38e222d5",
   "metadata": {},
   "outputs": [],
   "source": []
  },
  {
   "cell_type": "code",
   "execution_count": null,
   "id": "86b54333",
   "metadata": {},
   "outputs": [],
   "source": []
  },
  {
   "cell_type": "code",
   "execution_count": null,
   "id": "c41f4d8f",
   "metadata": {},
   "outputs": [],
   "source": []
  }
 ],
 "metadata": {
  "kernelspec": {
   "display_name": "Python 3",
   "language": "python",
   "name": "python3"
  },
  "language_info": {
   "codemirror_mode": {
    "name": "ipython",
    "version": 3
   },
   "file_extension": ".py",
   "mimetype": "text/x-python",
   "name": "python",
   "nbconvert_exporter": "python",
   "pygments_lexer": "ipython3",
   "version": "3.11.9"
  }
 },
 "nbformat": 4,
 "nbformat_minor": 5
}
