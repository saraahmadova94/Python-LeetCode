{
 "cells": [
  {
   "cell_type": "code",
   "execution_count": 6,
   "id": "bf9d14bf",
   "metadata": {},
   "outputs": [],
   "source": [
    "from __future__ import annotations\n",
    "\n",
    "from collections import Counter, defaultdict, deque\n",
    "from dataclasses import dataclass\n",
    "from typing import List, Tuple, Iterable, Generator, Dict, Optional, Set\n",
    "import itertools\n",
    "import csv\n",
    "import os\n",
    "import tempfile\n",
    "import re\n"
   ]
  },
  {
   "cell_type": "markdown",
   "id": "a455eb42",
   "metadata": {},
   "source": [
    "1) Two Sum\n",
    "\n",
    "Given a list of integers nums and an integer target,\n",
    "return indices (i, j) such that nums[i] + nums[j] == target and i < j.\n",
    "Assume exactly one solution exists.\n",
    "Goal: Implement in O(n) time using a hash map."
   ]
  },
  {
   "cell_type": "code",
   "execution_count": 2,
   "id": "91c87615",
   "metadata": {},
   "outputs": [
    {
     "name": "stdout",
     "output_type": "stream",
     "text": [
      "(2, 4)\n"
     ]
    }
   ],
   "source": [
    "nums = [2, 4, 7, 32, 13]\n",
    "target = 20\n",
    "\n",
    "def two_sum(nums, target):\n",
    "    num_to_index = {}\n",
    "    for i, num in enumerate(nums):\n",
    "        complement = target - num\n",
    "        if complement in num_to_index:\n",
    "            return (num_to_index[complement], i)\n",
    "        num_to_index[num] = i\n",
    "    raise ValueError(\"No two sum solution exists\")\n",
    "\n",
    "print(two_sum(nums, target))"
   ]
  },
  {
   "cell_type": "markdown",
   "id": "e19d6db6",
   "metadata": {},
   "source": [
    "2) Remove Duplicates (sorted list, in-place)\n",
    "\n",
    "Given a sorted list nums, remove duplicates in-place so that each element appears once.\n",
    "Return the new length (k). Only the first k elements of nums are guaranteed valid.\n",
    "TODO: Two-pointer approach; O(n) time, O(1) space."
   ]
  },
  {
   "cell_type": "code",
   "execution_count": 3,
   "id": "ff2b7f49",
   "metadata": {},
   "outputs": [
    {
     "name": "stdout",
     "output_type": "stream",
     "text": [
      "6\n"
     ]
    }
   ],
   "source": [
    "nums = [2, 7, 10, 2, 5, 8, 9, 10]\n",
    "nums.sort()\n",
    "\n",
    "def remove_duplicates(nums):\n",
    "    if not nums:\n",
    "        return 0\n",
    "    i = 0\n",
    "    for j in range(1, len(nums)):\n",
    "        if nums[j] != nums[i]:   # found a new unique value\n",
    "            \n",
    "            i += 1\n",
    "            nums[i] = nums[j]    # overwrite duplicate position\n",
    "    return i + 1\n",
    "\n",
    "print(remove_duplicates(nums)) "
   ]
  },
  {
   "cell_type": "markdown",
   "id": "9e19736b",
   "metadata": {},
   "source": [
    "3) Rotate List (right by k)\n",
    "\n",
    "Rotate the list to the right by k steps and return the new list.\n",
    "\n",
    "Example: [1,2,3,4,5], k=2 -> [4,5,1,2,3]\n",
    "\n",
    "TODO: Consider k % len(nums). Try slicing or deque."
   ]
  },
  {
   "cell_type": "code",
   "execution_count": 4,
   "id": "c6df8b0a",
   "metadata": {},
   "outputs": [
    {
     "name": "stdout",
     "output_type": "stream",
     "text": [
      "[5, 6, 7, 1, 2, 3, 4]\n"
     ]
    }
   ],
   "source": [
    "# First solution that comes to mind is slicing\n",
    "list = [1, 2, 3, 4, 5,6,7]\n",
    "k = 3\n",
    "\n",
    "def rotate_list(list, k):\n",
    "    if not list:\n",
    "        return list\n",
    "    k = k % len(list)  # handle cases where k > len(list)  ((large k values))\n",
    "    return list[-k:] + list[:-k]\n",
    "\n",
    "print(rotate_list(list, k))"
   ]
  },
  {
   "cell_type": "code",
   "execution_count": 3,
   "id": "8c5f3eaa",
   "metadata": {},
   "outputs": [
    {
     "name": "stdout",
     "output_type": "stream",
     "text": [
      "[5, 6, 7, 1, 2, 3, 4]\n"
     ]
    }
   ],
   "source": [
    "# Second solution using deque\n",
    "\n",
    "nums = [1, 2, 3, 4, 5, 6, 7]\n",
    "k = 3\n",
    "\n",
    "def rotate_list_deque(nums, k):\n",
    "    d = deque(nums)\n",
    "    d.rotate(k)\n",
    "    return list(d)\n",
    "\n",
    "print(rotate_list_deque(nums, k))"
   ]
  },
  {
   "cell_type": "markdown",
   "id": "f21cf3f9",
   "metadata": {},
   "source": [
    "4) Anagram Check\n",
    "\n",
    "Return True if s and t are anagrams (same letters, any order), else False.\n",
    "Ignore case and spaces. Can use Counter or sorting."
   ]
  },
  {
   "cell_type": "code",
   "execution_count": 4,
   "id": "3d42a308",
   "metadata": {},
   "outputs": [
    {
     "name": "stdout",
     "output_type": "stream",
     "text": [
      "True\n",
      "True\n",
      "False\n"
     ]
    }
   ],
   "source": [
    "def is_anagram(s: str, t: str):\n",
    " \n",
    "    # Normalize the strings by removing spaces and converting to lowercase\n",
    "    s = s.replace(\" \", \"\").lower()\n",
    "    t = t.replace(\" \", \"\").lower()\n",
    "    return Counter(s) == Counter(t)\n",
    "\n",
    "print(is_anagram(\"listen\", \"silent\")) \n",
    "print(is_anagram(\"Astronomer\", \"Moon starer\"))\n",
    "print(is_anagram(\"hello\", \"world\"))"
   ]
  },
  {
   "cell_type": "markdown",
   "id": "2bd3a194",
   "metadata": {},
   "source": [
    "5) Longest Substring Without Repeating Characters\n",
    "\n",
    "Return the length of the longest substring without repeating characters.\n",
    "Key idea: Sliding window."
   ]
  },
  {
   "cell_type": "code",
   "execution_count": null,
   "id": "38e222d5",
   "metadata": {},
   "outputs": [
    {
     "name": "stdout",
     "output_type": "stream",
     "text": [
      "5\n"
     ]
    }
   ],
   "source": [
    "s = \"asssasasgfddgfgf\"\n",
    "def length_of_longest_substring(s: str) -> int:\n",
    "    char_index = {}\n",
    "    left = 0\n",
    "    max_length = 0\n",
    "\n",
    "    for right, char in enumerate(s):\n",
    "         # If we've seen this character before, and it’s inside the window:\n",
    "        if char in char_index and char_index[char] >= left:\n",
    "            # Move the left pointer to one after the previous index\n",
    "            left = char_index[char] + 1\n",
    "\n",
    "        # Update this character's most recent index\n",
    "        char_index[char] = right\n",
    "        \n",
    "        # Calculate the current window length and update max_length if needed\n",
    "        max_length = max(max_length, right - left + 1)\n",
    "\n",
    "    return max_length\n",
    "\n",
    "print(length_of_longest_substring(s))\n"
   ]
  },
  {
   "cell_type": "markdown",
   "id": "de4800dc",
   "metadata": {},
   "source": [
    "6) Word Frequency Counter\n",
    "\n",
    "Count how many times each word appears (case-insensitive).\n",
    "Words are sequences of alphanumeric characters. Return a dict {word: count}."
   ]
  },
  {
   "cell_type": "code",
   "execution_count": null,
   "id": "86b54333",
   "metadata": {},
   "outputs": [
    {
     "name": "stdout",
     "output_type": "stream",
     "text": [
      "{'hello': 2, 'how': 1, 'are': 2, 'you': 2, 'i': 1, 'hope': 1, 'doing': 1, 'well': 4}\n"
     ]
    }
   ],
   "source": [
    "def word_frequency(text: str) -> Dict[str, int]:\n",
    "\n",
    "    # Normalize case; split on non-alphanumerics.\n",
    "    text = text.lower()\n",
    "\n",
    "    # Use regex to find words\n",
    "    words = re.findall(r'\\b\\w+\\b', text)\n",
    "\n",
    "    frequency = Counter(words)\n",
    "    \n",
    "    return dict(frequency)\n",
    "\n",
    "sample_text = \"Hello, hello! How are you? I hope you are doing well. Well, well, well...\"\n",
    "print(word_frequency(sample_text))"
   ]
  },
  {
   "cell_type": "markdown",
   "id": "e2cf9780",
   "metadata": {},
   "source": [
    "7) Common Elements (unique)\n",
    "\n",
    "Return a sorted list of unique common elements between a and b."
   ]
  },
  {
   "cell_type": "code",
   "execution_count": null,
   "id": "c41f4d8f",
   "metadata": {},
   "outputs": [],
   "source": []
  }
 ],
 "metadata": {
  "kernelspec": {
   "display_name": "Python 3",
   "language": "python",
   "name": "python3"
  },
  "language_info": {
   "codemirror_mode": {
    "name": "ipython",
    "version": 3
   },
   "file_extension": ".py",
   "mimetype": "text/x-python",
   "name": "python",
   "nbconvert_exporter": "python",
   "pygments_lexer": "ipython3",
   "version": "3.11.9"
  }
 },
 "nbformat": 4,
 "nbformat_minor": 5
}
